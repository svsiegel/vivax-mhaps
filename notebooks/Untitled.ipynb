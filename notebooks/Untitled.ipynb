{
 "cells": [
  {
   "cell_type": "code",
   "execution_count": 1,
   "id": "3b600fcf-1c35-470e-a030-61a26970d101",
   "metadata": {},
   "outputs": [],
   "source": [
    "# 20170922_create_AF_and_Fst to calculate AF in sub pops (from pf6)"
   ]
  },
  {
   "cell_type": "code",
   "execution_count": null,
   "id": "784dc0e6-7b52-4f8c-93f3-6b8233204a6d",
   "metadata": {},
   "outputs": [],
   "source": []
  }
 ],
 "metadata": {
  "kernelspec": {
   "display_name": "hackathon_env",
   "language": "python",
   "name": "hackathon_env"
  },
  "language_info": {
   "codemirror_mode": {
    "name": "ipython",
    "version": 3
   },
   "file_extension": ".py",
   "mimetype": "text/x-python",
   "name": "python",
   "nbconvert_exporter": "python",
   "pygments_lexer": "ipython3",
   "version": "3.7.4"
  }
 },
 "nbformat": 4,
 "nbformat_minor": 5
}
