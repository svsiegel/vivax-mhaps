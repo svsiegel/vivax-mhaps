{
 "cells": [
  {
   "cell_type": "markdown",
   "id": "36e6e2c4-e646-45f4-ac8d-7cb5b16e9bcb",
   "metadata": {},
   "source": [
    "# FWS Calculations "
   ]
  },
  {
   "cell_type": "code",
   "execution_count": 1,
   "id": "62c250c4-c821-4290-b5c9-056ab8717d55",
   "metadata": {},
   "outputs": [],
   "source": [
    "# Need to re calculate FWS for certain things. Just use Sasha's for now"
   ]
  },
  {
   "cell_type": "code",
   "execution_count": null,
   "id": "d2271c15-9bed-4670-947c-ffd1833c9875",
   "metadata": {},
   "outputs": [],
   "source": []
  }
 ],
 "metadata": {
  "kernelspec": {
   "display_name": "hackathon_env",
   "language": "python",
   "name": "hackathon_env"
  },
  "language_info": {
   "codemirror_mode": {
    "name": "ipython",
    "version": 3
   },
   "file_extension": ".py",
   "mimetype": "text/x-python",
   "name": "python",
   "nbconvert_exporter": "python",
   "pygments_lexer": "ipython3",
   "version": "3.7.4"
  }
 },
 "nbformat": 4,
 "nbformat_minor": 5
}
