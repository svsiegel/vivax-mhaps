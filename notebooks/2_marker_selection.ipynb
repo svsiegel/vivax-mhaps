{
 "cells": [
  {
   "cell_type": "markdown",
   "id": "28b0bfb3-5ec1-4cf3-a436-071fa095a5b8",
   "metadata": {},
   "source": [
    "# Marker Selection "
   ]
  },
  {
   "cell_type": "code",
   "execution_count": 1,
   "id": "3246e70f-a7b5-489c-852f-e2034574f264",
   "metadata": {},
   "outputs": [],
   "source": [
    "import pandas as pd\n",
    "from malariagen_data.pv4 import Pv4\n",
    "import numpy as np\n",
    "import os\n",
    "import matplotlib.pyplot as plt"
   ]
  },
  {
   "cell_type": "markdown",
   "id": "574d543e-87ac-4d35-be89-6d4af7568cce",
   "metadata": {},
   "source": [
    "# Load Data "
   ]
  },
  {
   "cell_type": "code",
   "execution_count": 2,
   "id": "7bf8cd1c-3f6f-4a39-9d21-04b60df05b98",
   "metadata": {},
   "outputs": [],
   "source": [
    "pv4 = Pv4(\"gs://pv4_staging/\")\n",
    "variant_dataset = pv4.variant_calls(extended=True)"
   ]
  },
  {
   "cell_type": "markdown",
   "id": "2e1df449-b18f-4d90-9ba6-5ca3c39e9164",
   "metadata": {},
   "source": [
    "Compile data files from each chromosome into one dataframe"
   ]
  },
  {
   "cell_type": "code",
   "execution_count": 3,
   "id": "652b6ed6-b490-4157-bf1e-f4b7f071f876",
   "metadata": {},
   "outputs": [],
   "source": [
    "results_directory = 'sliding_window_results'\n",
    "i=0\n",
    "for filename in os.listdir(results_directory):\n",
    "    f = os.path.join(results_directory, filename)\n",
    "    # checking if it is a file\n",
    "    if os.path.isfile(f):\n",
    "        df = pd.read_csv(f, index_col=0)\n",
    "        # Add chromosome name columns \n",
    "        df.insert(loc=0, column='chrom', value=filename.replace('_windowed_heterozygosity.csv',''))\n",
    "        # Join dataframes together \n",
    "        if i==0: \n",
    "            results_df = df\n",
    "        else: \n",
    "            results_df = results_df.append(df)\n",
    "        i+=1"
   ]
  },
  {
   "cell_type": "code",
   "execution_count": 4,
   "id": "744e29fa-d959-4bff-bd17-7548e6e58e40",
   "metadata": {},
   "outputs": [
    {
     "data": {
      "text/html": [
       "<div>\n",
       "<style scoped>\n",
       "    .dataframe tbody tr th:only-of-type {\n",
       "        vertical-align: middle;\n",
       "    }\n",
       "\n",
       "    .dataframe tbody tr th {\n",
       "        vertical-align: top;\n",
       "    }\n",
       "\n",
       "    .dataframe thead th {\n",
       "        text-align: right;\n",
       "    }\n",
       "</style>\n",
       "<table border=\"1\" class=\"dataframe\">\n",
       "  <thead>\n",
       "    <tr style=\"text-align: right;\">\n",
       "      <th></th>\n",
       "      <th>chrom</th>\n",
       "      <th>window_start</th>\n",
       "      <th>window_end</th>\n",
       "      <th>variant_counts</th>\n",
       "      <th>unique_allele_counts</th>\n",
       "      <th>unique_alleles_with_missing_index</th>\n",
       "      <th>unique_alleles_with_het_index</th>\n",
       "      <th>unique_allele_frequencies</th>\n",
       "      <th>unique_allele_count</th>\n",
       "      <th>entropy</th>\n",
       "      <th>het</th>\n",
       "    </tr>\n",
       "  </thead>\n",
       "  <tbody>\n",
       "    <tr>\n",
       "      <th>0</th>\n",
       "      <td>PvP01_05_v1</td>\n",
       "      <td>143737</td>\n",
       "      <td>143936</td>\n",
       "      <td>1</td>\n",
       "      <td>[  2 463   4 225]</td>\n",
       "      <td>[0]</td>\n",
       "      <td>[2]</td>\n",
       "      <td>[0.002881844380403458, 0.6671469740634006, 0.0...</td>\n",
       "      <td>4</td>\n",
       "      <td>0.681778</td>\n",
       "      <td>0.449763</td>\n",
       "    </tr>\n",
       "    <tr>\n",
       "      <th>1</th>\n",
       "      <td>PvP01_05_v1</td>\n",
       "      <td>146187</td>\n",
       "      <td>146386</td>\n",
       "      <td>1</td>\n",
       "      <td>[216   5 473]</td>\n",
       "      <td>[]</td>\n",
       "      <td>[1]</td>\n",
       "      <td>[0.3112391930835735, 0.007204610951008645, 0.6...</td>\n",
       "      <td>3</td>\n",
       "      <td>0.660110</td>\n",
       "      <td>0.438559</td>\n",
       "    </tr>\n",
       "    <tr>\n",
       "      <th>2</th>\n",
       "      <td>PvP01_05_v1</td>\n",
       "      <td>146337</td>\n",
       "      <td>146536</td>\n",
       "      <td>3</td>\n",
       "      <td>[  2 200   1  13   2   3 232   6   1 234]</td>\n",
       "      <td>[0]</td>\n",
       "      <td>[2, 4, 5, 7, 8]</td>\n",
       "      <td>[0.002881844380403458, 0.2881844380403458, 0.0...</td>\n",
       "      <td>10</td>\n",
       "      <td>1.283084</td>\n",
       "      <td>0.691045</td>\n",
       "    </tr>\n",
       "    <tr>\n",
       "      <th>3</th>\n",
       "      <td>PvP01_05_v1</td>\n",
       "      <td>146387</td>\n",
       "      <td>146586</td>\n",
       "      <td>2</td>\n",
       "      <td>[  2 434   7   1 250]</td>\n",
       "      <td>[0]</td>\n",
       "      <td>[2, 3]</td>\n",
       "      <td>[0.002881844380403458, 0.6253602305475504, 0.0...</td>\n",
       "      <td>5</td>\n",
       "      <td>0.734008</td>\n",
       "      <td>0.479046</td>\n",
       "    </tr>\n",
       "    <tr>\n",
       "      <th>4</th>\n",
       "      <td>PvP01_05_v1</td>\n",
       "      <td>146487</td>\n",
       "      <td>146686</td>\n",
       "      <td>3</td>\n",
       "      <td>[  2   1 219   2 212   2   5   1   1  15   4 230]</td>\n",
       "      <td>[0, 1, 8]</td>\n",
       "      <td>[3, 5, 6, 7, 10]</td>\n",
       "      <td>[0.002881844380403458, 0.001440922190201729, 0...</td>\n",
       "      <td>12</td>\n",
       "      <td>1.319225</td>\n",
       "      <td>0.696688</td>\n",
       "    </tr>\n",
       "    <tr>\n",
       "      <th>...</th>\n",
       "      <td>...</td>\n",
       "      <td>...</td>\n",
       "      <td>...</td>\n",
       "      <td>...</td>\n",
       "      <td>...</td>\n",
       "      <td>...</td>\n",
       "      <td>...</td>\n",
       "      <td>...</td>\n",
       "      <td>...</td>\n",
       "      <td>...</td>\n",
       "      <td>...</td>\n",
       "    </tr>\n",
       "    <tr>\n",
       "      <th>1746</th>\n",
       "      <td>PvP01_14_v1</td>\n",
       "      <td>3010171</td>\n",
       "      <td>3010370</td>\n",
       "      <td>10</td>\n",
       "      <td>[  1   1 308   3   1  14   2  62   1 134   1  ...</td>\n",
       "      <td>[0, 1, 6]</td>\n",
       "      <td>[0, 3, 4, 5, 6, 7, 8, 9, 10, 11, 12, 13, 14, 1...</td>\n",
       "      <td>[0.001440922190201729, 0.001440922190201729, 0...</td>\n",
       "      <td>19</td>\n",
       "      <td>1.645006</td>\n",
       "      <td>0.726690</td>\n",
       "    </tr>\n",
       "    <tr>\n",
       "      <th>1747</th>\n",
       "      <td>PvP01_14_v1</td>\n",
       "      <td>3010221</td>\n",
       "      <td>3010420</td>\n",
       "      <td>8</td>\n",
       "      <td>[  2   1 370   1 138   1  29  10   1 120   3  ...</td>\n",
       "      <td>[0, 1]</td>\n",
       "      <td>[3, 4, 5, 6, 7, 8, 9, 10, 11]</td>\n",
       "      <td>[0.002881844380403458, 0.001440922190201729, 0...</td>\n",
       "      <td>13</td>\n",
       "      <td>1.332126</td>\n",
       "      <td>0.643731</td>\n",
       "    </tr>\n",
       "    <tr>\n",
       "      <th>1748</th>\n",
       "      <td>PvP01_14_v1</td>\n",
       "      <td>3010271</td>\n",
       "      <td>3010470</td>\n",
       "      <td>4</td>\n",
       "      <td>[  2 372  30 124 148  17   1]</td>\n",
       "      <td>[0]</td>\n",
       "      <td>[2, 3, 4, 5]</td>\n",
       "      <td>[0.002881844380403458, 0.5360230547550432, 0.0...</td>\n",
       "      <td>7</td>\n",
       "      <td>1.224435</td>\n",
       "      <td>0.632797</td>\n",
       "    </tr>\n",
       "    <tr>\n",
       "      <th>1749</th>\n",
       "      <td>PvP01_14_v1</td>\n",
       "      <td>3010321</td>\n",
       "      <td>3010520</td>\n",
       "      <td>3</td>\n",
       "      <td>[ 14 320   2 358]</td>\n",
       "      <td>[0]</td>\n",
       "      <td>[2, 3]</td>\n",
       "      <td>[0.020172910662824207, 0.4610951008645533, 0.0...</td>\n",
       "      <td>4</td>\n",
       "      <td>0.794019</td>\n",
       "      <td>0.520875</td>\n",
       "    </tr>\n",
       "    <tr>\n",
       "      <th>1750</th>\n",
       "      <td>PvP01_14_v1</td>\n",
       "      <td>3015171</td>\n",
       "      <td>3015360</td>\n",
       "      <td>1</td>\n",
       "      <td>[  4 350  14 326]</td>\n",
       "      <td>[0]</td>\n",
       "      <td>[2]</td>\n",
       "      <td>[0.005763688760806916, 0.5043227665706052, 0.0...</td>\n",
       "      <td>4</td>\n",
       "      <td>0.808614</td>\n",
       "      <td>0.524562</td>\n",
       "    </tr>\n",
       "  </tbody>\n",
       "</table>\n",
       "<p>13952 rows × 11 columns</p>\n",
       "</div>"
      ],
      "text/plain": [
       "            chrom  window_start  window_end  variant_counts  \\\n",
       "0     PvP01_05_v1        143737      143936               1   \n",
       "1     PvP01_05_v1        146187      146386               1   \n",
       "2     PvP01_05_v1        146337      146536               3   \n",
       "3     PvP01_05_v1        146387      146586               2   \n",
       "4     PvP01_05_v1        146487      146686               3   \n",
       "...           ...           ...         ...             ...   \n",
       "1746  PvP01_14_v1       3010171     3010370              10   \n",
       "1747  PvP01_14_v1       3010221     3010420               8   \n",
       "1748  PvP01_14_v1       3010271     3010470               4   \n",
       "1749  PvP01_14_v1       3010321     3010520               3   \n",
       "1750  PvP01_14_v1       3015171     3015360               1   \n",
       "\n",
       "                                   unique_allele_counts  \\\n",
       "0                                     [  2 463   4 225]   \n",
       "1                                         [216   5 473]   \n",
       "2             [  2 200   1  13   2   3 232   6   1 234]   \n",
       "3                                 [  2 434   7   1 250]   \n",
       "4     [  2   1 219   2 212   2   5   1   1  15   4 230]   \n",
       "...                                                 ...   \n",
       "1746  [  1   1 308   3   1  14   2  62   1 134   1  ...   \n",
       "1747  [  2   1 370   1 138   1  29  10   1 120   3  ...   \n",
       "1748                      [  2 372  30 124 148  17   1]   \n",
       "1749                                  [ 14 320   2 358]   \n",
       "1750                                  [  4 350  14 326]   \n",
       "\n",
       "     unique_alleles_with_missing_index  \\\n",
       "0                                  [0]   \n",
       "1                                   []   \n",
       "2                                  [0]   \n",
       "3                                  [0]   \n",
       "4                            [0, 1, 8]   \n",
       "...                                ...   \n",
       "1746                         [0, 1, 6]   \n",
       "1747                            [0, 1]   \n",
       "1748                               [0]   \n",
       "1749                               [0]   \n",
       "1750                               [0]   \n",
       "\n",
       "                          unique_alleles_with_het_index  \\\n",
       "0                                                   [2]   \n",
       "1                                                   [1]   \n",
       "2                                       [2, 4, 5, 7, 8]   \n",
       "3                                                [2, 3]   \n",
       "4                                      [3, 5, 6, 7, 10]   \n",
       "...                                                 ...   \n",
       "1746  [0, 3, 4, 5, 6, 7, 8, 9, 10, 11, 12, 13, 14, 1...   \n",
       "1747                      [3, 4, 5, 6, 7, 8, 9, 10, 11]   \n",
       "1748                                       [2, 3, 4, 5]   \n",
       "1749                                             [2, 3]   \n",
       "1750                                                [2]   \n",
       "\n",
       "                              unique_allele_frequencies  unique_allele_count  \\\n",
       "0     [0.002881844380403458, 0.6671469740634006, 0.0...                    4   \n",
       "1     [0.3112391930835735, 0.007204610951008645, 0.6...                    3   \n",
       "2     [0.002881844380403458, 0.2881844380403458, 0.0...                   10   \n",
       "3     [0.002881844380403458, 0.6253602305475504, 0.0...                    5   \n",
       "4     [0.002881844380403458, 0.001440922190201729, 0...                   12   \n",
       "...                                                 ...                  ...   \n",
       "1746  [0.001440922190201729, 0.001440922190201729, 0...                   19   \n",
       "1747  [0.002881844380403458, 0.001440922190201729, 0...                   13   \n",
       "1748  [0.002881844380403458, 0.5360230547550432, 0.0...                    7   \n",
       "1749  [0.020172910662824207, 0.4610951008645533, 0.0...                    4   \n",
       "1750  [0.005763688760806916, 0.5043227665706052, 0.0...                    4   \n",
       "\n",
       "       entropy       het  \n",
       "0     0.681778  0.449763  \n",
       "1     0.660110  0.438559  \n",
       "2     1.283084  0.691045  \n",
       "3     0.734008  0.479046  \n",
       "4     1.319225  0.696688  \n",
       "...        ...       ...  \n",
       "1746  1.645006  0.726690  \n",
       "1747  1.332126  0.643731  \n",
       "1748  1.224435  0.632797  \n",
       "1749  0.794019  0.520875  \n",
       "1750  0.808614  0.524562  \n",
       "\n",
       "[13952 rows x 11 columns]"
      ]
     },
     "execution_count": 4,
     "metadata": {},
     "output_type": "execute_result"
    }
   ],
   "source": [
    "results_df"
   ]
  },
  {
   "cell_type": "markdown",
   "id": "b29dda58-8009-44fb-be42-2c7933bd27a5",
   "metadata": {},
   "source": [
    "Save this dataframe as a new file "
   ]
  },
  {
   "cell_type": "code",
   "execution_count": 5,
   "id": "c8517d33-5014-478e-b22e-9302c7bef35f",
   "metadata": {},
   "outputs": [],
   "source": [
    "results_df.to_csv(f\"sliding_window_results/compiled_windowed_heterozygosity.csv\")"
   ]
  },
  {
   "cell_type": "code",
   "execution_count": 6,
   "id": "99a3d5ff-ea3d-468b-ac25-a16c1ee59cb1",
   "metadata": {},
   "outputs": [],
   "source": [
    "results_df = results_df.sort_values(by=['chrom'])"
   ]
  },
  {
   "cell_type": "code",
   "execution_count": 7,
   "id": "b62e371e-274c-4721-9ccd-67bf6b5ad575",
   "metadata": {},
   "outputs": [
    {
     "data": {
      "text/plain": [
       "(3964, 11)"
      ]
     },
     "execution_count": 7,
     "metadata": {},
     "output_type": "execute_result"
    }
   ],
   "source": [
    "# How many have het over 0.5 \n",
    "results_df.loc[results_df['het']>0.5].shape"
   ]
  },
  {
   "cell_type": "markdown",
   "id": "63812386-aeca-485a-b54f-cf7d081c3aa5",
   "metadata": {},
   "source": [
    "# Plot\n",
    "\n",
    "Number of SNPs in each window across chromosomes "
   ]
  },
  {
   "cell_type": "code",
   "execution_count": 8,
   "id": "522666f6-6791-4445-9218-fe2e70c7d5be",
   "metadata": {},
   "outputs": [],
   "source": [
    "man_colours = ['#C62828','#D81B60','#8E24AA','#5E35B1','#3949AB','#1E88E5','#039BE5','#00ACC1','#00897B','#43A047','#7CB342','#C0CA33','#FFB300','#F4511E']"
   ]
  },
  {
   "cell_type": "code",
   "execution_count": 77,
   "id": "9fdf242b-1574-4a91-820c-937586bcce91",
   "metadata": {},
   "outputs": [
    {
     "data": {
      "image/png": "[encoded data removed]",
      "text/plain": [
       "<Figure size 1152x504 with 1 Axes>"
      ]
     },
     "metadata": {
      "needs_background": "light"
     },
     "output_type": "display_data"
    }
   ],
   "source": [
    "def plot_man():\n",
    "\n",
    "    rcParams = plt.rcParams\n",
    "    rcParams['font.size'] = 14\n",
    "    rcParams['axes.labelsize'] = 14\n",
    "\n",
    "    plt.rcParams['xtick.labelsize']=14\n",
    "    plt.rcParams['ytick.labelsize']=12\n",
    "\n",
    "    fig, ax = plt.subplots(figsize=(16, 7))\n",
    "\n",
    "    ax.spines['right'].set_visible(False)\n",
    "    ax.spines['top'].set_visible(False)\n",
    "    \n",
    "    ax.set_ylim([0,40])\n",
    "    ax.set_xlabel('Chromosome')\n",
    "    ax.set_ylabel('SNPs in microhaplotype')\n",
    "    \n",
    "    colour_i=0\n",
    "    chrom_num = 0 \n",
    "    for chrom in results_df.chrom.unique(): \n",
    "        chrom_num += 1\n",
    "        chrom_df = results_df.loc[results_df['chrom']==chrom]\n",
    "        windows = chrom_df.shape[0]\n",
    "        increment = 1/windows\n",
    "        delta = 0\n",
    "        x = chrom_num - (windows*increment/2)\n",
    "        for index, row in chrom_df.iterrows():\n",
    "            ax.scatter(x, row['variant_counts'], c=man_colours[colour_i],s=row['variant_counts'])\n",
    "            x+=increment\n",
    "        colour_i+=1\n",
    "    plt.xticks(np.arange(1, 15, 1.0), rotation = 45)\n",
    "\n",
    "plot_man()"
   ]
  },
  {
   "cell_type": "markdown",
   "id": "e41d7256-3fab-40f6-b1ea-c12e947a5de7",
   "metadata": {},
   "source": [
    "# Select Windows\n",
    "Three panels to be selected: \n",
    "* 3-10 candidate SNPs, optimised for highest heterozygosity \n",
    "* 3 SNP, max het \n",
    "* any SNP, any het (I think over 0.5 het) - chosen randomly"
   ]
  },
  {
   "cell_type": "markdown",
   "id": "aa5a5233-4e5d-44b4-a630-32de1f04fd96",
   "metadata": {},
   "source": [
    "**3-10 SNP Panel**"
   ]
  },
  {
   "cell_type": "code",
   "execution_count": 71,
   "id": "60eeb5a3-073c-4285-8cc9-070c6fc58829",
   "metadata": {},
   "outputs": [],
   "source": [
    "panel_3_10_snp = results_df.loc[results_df['variant_counts'].between(3,10)].sort_values(by='het', ascending=False).head(n=130)"
   ]
  },
  {
   "cell_type": "code",
   "execution_count": 74,
   "id": "d3060e43-5a7f-42a6-9e65-2fb5754a3de0",
   "metadata": {},
   "outputs": [
    {
     "data": {
      "text/plain": [
       "array([[<AxesSubplot:title={'center':'het'}>]], dtype=object)"
      ]
     },
     "execution_count": 74,
     "metadata": {},
     "output_type": "execute_result"
    },
    {
     "data": {
      "image/png": "[encoded data removed]",
      "text/plain": [
       "<Figure size 432x288 with 1 Axes>"
      ]
     },
     "metadata": {
      "needs_background": "light"
     },
     "output_type": "display_data"
    }
   ],
   "source": [
    "panel_3_10_snp.hist(column='het')"
   ]
  },
  {
   "cell_type": "code",
   "execution_count": 75,
   "id": "462fc350-dc34-401e-82ba-e9ae68cce283",
   "metadata": {},
   "outputs": [
    {
     "name": "stdout",
     "output_type": "stream",
     "text": [
      "Mean het:  0.8793193966461746\n",
      "Min het:  0.8460829339999502\n",
      "Max het:  0.9600569724854454\n"
     ]
    }
   ],
   "source": [
    "print('Mean het: ',panel_3_10_snp.het.mean())\n",
    "print('Min het: ',panel_3_10_snp.het.min())\n",
    "print('Max het: ',panel_3_10_snp.het.max())"
   ]
  },
  {
   "cell_type": "code",
   "execution_count": 76,
   "id": "7a4254e5-2ced-47ec-a621-6a727399b123",
   "metadata": {},
   "outputs": [
    {
     "data": {
      "image/png": "[encoded data removed]",
      "text/plain": [
       "<Figure size 1152x504 with 1 Axes>"
      ]
     },
     "metadata": {
      "needs_background": "light"
     },
     "output_type": "display_data"
    }
   ],
   "source": [
    "def plot_man():\n",
    "\n",
    "    rcParams = plt.rcParams\n",
    "    rcParams['font.size'] = 14\n",
    "    rcParams['axes.labelsize'] = 14\n",
    "\n",
    "    plt.rcParams['xtick.labelsize']=14\n",
    "    plt.rcParams['ytick.labelsize']=12\n",
    "\n",
    "    fig, ax = plt.subplots(figsize=(16, 7))\n",
    "\n",
    "    ax.spines['right'].set_visible(False)\n",
    "    ax.spines['top'].set_visible(False)\n",
    "    \n",
    "    ax.set_ylim([0,11])\n",
    "    ax.set_xlabel('Chromosome')\n",
    "    ax.set_ylabel('SNPs in microhaplotype')\n",
    "    \n",
    "    colour_i=0\n",
    "    chrom_num = 0 \n",
    "    for chrom in panel_3_10_snp.chrom.unique(): \n",
    "        chrom_num += 1\n",
    "        chrom_df = panel_3_10_snp.loc[panel_3_10_snp['chrom']==chrom]\n",
    "        windows = chrom_df.shape[0]\n",
    "        increment = 1/windows\n",
    "        delta = 0\n",
    "        x = chrom_num - (windows*increment/2)\n",
    "        for index, row in chrom_df.iterrows():\n",
    "            ax.scatter(x, row['variant_counts'], c=man_colours[colour_i],s=row['variant_counts'])\n",
    "            x+=increment\n",
    "        colour_i+=1\n",
    "    plt.xticks(np.arange(1, 15, 1.0), rotation = 45)\n",
    "\n",
    "plot_man()"
   ]
  },
  {
   "cell_type": "code",
   "execution_count": 12,
   "id": "feecaa46-46b2-4777-bc67-59f0533fde30",
   "metadata": {},
   "outputs": [
    {
     "data": {
      "text/plain": [
       "(36, 11)"
      ]
     },
     "execution_count": 12,
     "metadata": {},
     "output_type": "execute_result"
    }
   ],
   "source": [
    "results_df.loc[(results_df.chrom=='PvP01_12_v1') & (results_df.variant_counts>3)].shape"
   ]
  },
  {
   "cell_type": "code",
   "execution_count": null,
   "id": "70953679-1fc6-4368-be81-55d33eb814bf",
   "metadata": {},
   "outputs": [],
   "source": [
    "results_df.loc[(results_df.variant_counts == 3)]"
   ]
  },
  {
   "cell_type": "code",
   "execution_count": null,
   "id": "48e7b7af-65c4-4768-8c37-85492d1f18c2",
   "metadata": {},
   "outputs": [],
   "source": []
  }
 ],
 "metadata": {
  "kernelspec": {
   "display_name": "hackathon_env",
   "language": "python",
   "name": "hackathon_env"
  },
  "language_info": {
   "codemirror_mode": {
    "name": "ipython",
    "version": 3
   },
   "file_extension": ".py",
   "mimetype": "text/x-python",
   "name": "python",
   "nbconvert_exporter": "python",
   "pygments_lexer": "ipython3",
   "version": "3.7.4"
  }
 },
 "nbformat": 4,
 "nbformat_minor": 5
}
